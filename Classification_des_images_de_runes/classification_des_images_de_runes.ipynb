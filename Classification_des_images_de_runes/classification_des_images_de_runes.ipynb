{
 "cells": [
  {
   "cell_type": "code",
   "execution_count": 2,
   "id": "69b707a9-891b-4058-a166-f0f84b1a086a",
   "metadata": {},
   "outputs": [],
   "source": [
    "# Importer les bibliothèques\n",
    "import numpy as np\n",
    "import matplotlib as mpl\n",
    "import matplotlib.pyplot as plt\n",
    "import os\n",
    "from PIL import Image\n",
    "from sklearn.model_selection import train_test_split\n",
    "from sklearn.metrics import r2_score, accuracy_score\n",
    "import tensorflow as tf\n",
    "from tensorflow.keras import Model, Sequential\n",
    "from tensorflow.keras.layers import Conv2D, Dropout, MaxPooling2D, Flatten, Dense\n",
    "np.random.seed(42)\n",
    "tf.random.set_seed(42)"
   ]
  },
  {
   "cell_type": "code",
   "execution_count": 3,
   "id": "f3795b82-16ac-426f-8b9b-014aac5ee445",
   "metadata": {},
   "outputs": [],
   "source": [
    "# Préparer le jeu de données "
   ]
  },
  {
   "cell_type": "code",
   "execution_count": 4,
   "id": "af258ef6-8f3e-4255-9311-5ce36dd8e3e0",
   "metadata": {},
   "outputs": [],
   "source": [
    "# Charger les images originales\n",
    "data_directory = r\"C:\\Users\\saida\\anaconda_dossier\\Deep_Learning\\mes_images_runes\\mes_images\"\n",
    "image_files = os.listdir(data_directory)\n",
    "images = []\n",
    "labels = [0,1,2,3,4,5]\n",
    "\n",
    "for filename in image_files:\n",
    "    if filename.endswith(\".jpg\"):\n",
    "        img = Image.open(os.path.join(data_directory, filename)).convert('L')  # Convertir en niveaux de gris\n",
    "        images.append(img)\n",
    "        \n",
    "# Redimensionner les images et appliquer la rotation pour augmenter les données\n",
    "augmented_images = []\n",
    "augmented_labels = []\n",
    "\n",
    "for iteration in range(260) :\n",
    "    for i, img in enumerate(images):\n",
    "        for angle in range(-20, 20):\n",
    "            rotated_img = img.rotate(angle, resample=Image.BILINEAR, fillcolor=255)  # Appliquer la rotation\n",
    "            resized_img = rotated_img.resize((28, 28), Image.LANCZOS)  # Redimensionner l'image\n",
    "            augmented_images.append(np.array(resized_img))  # Convertir en tableau numpy\n",
    "            augmented_labels.append(labels[i])"
   ]
  },
  {
   "cell_type": "code",
   "execution_count": 5,
   "id": "19180150-9603-4b69-a068-ea33abca3cee",
   "metadata": {},
   "outputs": [],
   "source": [
    "# Partitionner les données\n",
    "X_train, X_test, y_train, y_test = train_test_split(augmented_images, augmented_labels, test_size=0.2, random_state=42)\n",
    "X_val, X_test, y_val, y_test = train_test_split(X_test, y_test, test_size=0.5, random_state=42)\n",
    "\n",
    "# Convertir en tableaux numpy\n",
    "X_train = np.array(X_train)\n",
    "X_val = np.array(X_val)\n",
    "X_test = np.array(X_test)\n",
    "y_train = np.array(y_train)\n",
    "y_val = np.array(y_val)\n",
    "y_test = np.array(y_test)\n",
    "\n",
    "# Normaliser les valeurs des pixels (0-1)\n",
    "X_train = X_train.astype('float32') / 255.0\n",
    "X_val = X_val.astype('float32') / 255.0\n",
    "X_test = X_test.astype('float32') / 255.0"
   ]
  },
  {
   "cell_type": "code",
   "execution_count": 6,
   "id": "2a0b991c-ac08-4d32-b4bc-8d1c7b70f618",
   "metadata": {},
   "outputs": [
    {
     "name": "stdout",
     "output_type": "stream",
     "text": [
      "Dimensions des ensembles d'entraînement, de validation et de test :\n",
      "Entraînement : (49920, 28, 28, 1) (49920,)\n",
      "Validation   : (6240, 28, 28, 1) (6240,)\n",
      "Test         : (6240, 28, 28, 1) (6240,)\n"
     ]
    }
   ],
   "source": [
    "# Ajouter une dimention par canal d'image\n",
    "X_train = X_train[..., np.newaxis]\n",
    "X_val = X_val[..., np.newaxis]\n",
    "X_test = X_test[..., np.newaxis]\n",
    "\n",
    "# Afficher les dimensions des ensembles de données\n",
    "print(\"Dimensions des ensembles d'entraînement, de validation et de test :\")\n",
    "print(\"Entraînement :\", X_train.shape, y_train.shape)\n",
    "print(\"Validation   :\", X_val.shape, y_val.shape)\n",
    "print(\"Test         :\", X_test.shape, y_test.shape)"
   ]
  },
  {
   "cell_type": "code",
   "execution_count": 7,
   "id": "305c0ab7-778d-41b2-b597-bed7b456da20",
   "metadata": {},
   "outputs": [
    {
     "data": {
      "image/png": "[encoded data removed]",
      "text/plain": [
       "<Figure size 720x240 with 3 Axes>"
      ]
     },
     "metadata": {},
     "output_type": "display_data"
    }
   ],
   "source": [
    "# Visualiser le jeu de donnees\n",
    "mpl.rc('axes', labelsize=14)\n",
    "mpl.rc('xtick', labelsize=12)\n",
    "mpl.rc('ytick', labelsize=12)\n",
    "\n",
    "X_new = X_test[:3]\n",
    "plt.figure(figsize=(7.2, 2.4))\n",
    "for index, image in enumerate(X_new):\n",
    "    plt.subplot(1, 3, index + 1)\n",
    "    plt.imshow(image, cmap=\"binary\", interpolation=\"nearest\", )\n",
    "    plt.axis('off')\n",
    "    plt.title(f\"catégorie {y_test[index]}\")\n",
    "plt.subplots_adjust(wspace=0.2, hspace=0.5)\n",
    "plt.show()"
   ]
  },
  {
   "cell_type": "code",
   "execution_count": 8,
   "id": "e5aa6882-7729-43eb-9892-5c49503945ad",
   "metadata": {},
   "outputs": [],
   "source": [
    "# Architecture du CNN\n",
    "model = Sequential()\n",
    "model.add(Conv2D(filters=32, kernel_size=4, padding=\"SAME\", activation=\"relu\", input_shape=X_train.shape[1:]))\n",
    "model.add(Dropout(0.2))\n",
    "model.add(MaxPooling2D())\n",
    "model.add(Flatten())\n",
    "model.add(Dense(units=len(np.unique(y_test)), activation=\"softmax\"))"
   ]
  },
  {
   "cell_type": "code",
   "execution_count": 9,
   "id": "f13eb453-6733-44a7-9122-764fc7b64982",
   "metadata": {},
   "outputs": [
    {
     "name": "stdout",
     "output_type": "stream",
     "text": [
      "Model: \"sequential\"\n",
      "_________________________________________________________________\n",
      " Layer (type)                Output Shape              Param #   \n",
      "=================================================================\n",
      " conv2d (Conv2D)             (None, 28, 28, 32)        544       \n",
      "                                                                 \n",
      " dropout (Dropout)           (None, 28, 28, 32)        0         \n",
      "                                                                 \n",
      " max_pooling2d (MaxPooling2D  (None, 14, 14, 32)       0         \n",
      " )                                                               \n",
      "                                                                 \n",
      " flatten (Flatten)           (None, 6272)              0         \n",
      "                                                                 \n",
      " dense (Dense)               (None, 6)                 37638     \n",
      "                                                                 \n",
      "=================================================================\n",
      "Total params: 38,182\n",
      "Trainable params: 38,182\n",
      "Non-trainable params: 0\n",
      "_________________________________________________________________\n"
     ]
    }
   ],
   "source": [
    "model.summary()"
   ]
  },
  {
   "cell_type": "code",
   "execution_count": 10,
   "id": "c76522ac-513e-4524-97a7-0b84f8c50b8a",
   "metadata": {},
   "outputs": [
    {
     "name": "stdout",
     "output_type": "stream",
     "text": [
      "Epoch 1/10\n",
      "1560/1560 [==============================] - 29s 18ms/step - loss: 0.1036 - accuracy: 0.9805 - val_loss: 0.0036 - val_accuracy: 1.0000\n",
      "Epoch 2/10\n",
      "1560/1560 [==============================] - 50s 32ms/step - loss: 6.4511e-04 - accuracy: 1.0000 - val_loss: 9.1662e-04 - val_accuracy: 1.0000\n",
      "Epoch 3/10\n",
      "1560/1560 [==============================] - 60s 39ms/step - loss: 1.6046e-04 - accuracy: 1.0000 - val_loss: 3.2935e-04 - val_accuracy: 1.0000\n",
      "Epoch 4/10\n",
      "1560/1560 [==============================] - 39s 25ms/step - loss: 5.5646e-05 - accuracy: 1.0000 - val_loss: 1.4517e-04 - val_accuracy: 1.0000\n",
      "Epoch 5/10\n",
      "1560/1560 [==============================] - 39s 25ms/step - loss: 2.1250e-05 - accuracy: 1.0000 - val_loss: 6.2413e-05 - val_accuracy: 1.0000\n",
      "Epoch 6/10\n",
      "1560/1560 [==============================] - 39s 25ms/step - loss: 8.7668e-06 - accuracy: 1.0000 - val_loss: 3.1423e-05 - val_accuracy: 1.0000\n",
      "Epoch 7/10\n",
      "1560/1560 [==============================] - 33s 21ms/step - loss: 3.6139e-06 - accuracy: 1.0000 - val_loss: 1.4125e-05 - val_accuracy: 1.0000\n",
      "Epoch 8/10\n",
      "1560/1560 [==============================] - 34s 22ms/step - loss: 1.5346e-06 - accuracy: 1.0000 - val_loss: 6.8739e-06 - val_accuracy: 1.0000\n",
      "Epoch 9/10\n",
      "1560/1560 [==============================] - 26s 17ms/step - loss: 6.5639e-07 - accuracy: 1.0000 - val_loss: 3.3588e-06 - val_accuracy: 1.0000\n",
      "Epoch 10/10\n",
      "1560/1560 [==============================] - 32s 20ms/step - loss: 2.7263e-07 - accuracy: 1.0000 - val_loss: 1.6269e-06 - val_accuracy: 1.0000\n"
     ]
    }
   ],
   "source": [
    "# Entraîner le modèle\n",
    "model.compile(loss=\"sparse_categorical_crossentropy\", optimizer=\"nadam\", metrics=[\"accuracy\"])\n",
    "history = model.fit(X_train, y_train, epochs=10, validation_data=(X_val, y_val))"
   ]
  },
  {
   "cell_type": "code",
   "execution_count": 11,
   "id": "132830b6-975e-43dd-bc0b-b7514ede74f9",
   "metadata": {},
   "outputs": [
    {
     "data": {
      "image/png": "[encoded data removed]",
      "text/plain": [
       "<Figure size 640x480 with 1 Axes>"
      ]
     },
     "metadata": {},
     "output_type": "display_data"
    }
   ],
   "source": [
    "# Visualiser l'évolution de la fonction de coût sur les données d'entraînement et de validation\n",
    "plt.plot(history.history['loss'], label='train')\n",
    "plt.plot(history.history['val_loss'], label='validation')\n",
    "plt.title('Model loss')\n",
    "plt.xlabel('Epoch')\n",
    "plt.ylabel('Loss')\n",
    "plt.legend()\n",
    "plt.show()"
   ]
  },
  {
   "cell_type": "code",
   "execution_count": 12,
   "id": "728c1309-d223-49ec-9c46-386cd01c7c05",
   "metadata": {},
   "outputs": [
    {
     "name": "stdout",
     "output_type": "stream",
     "text": [
      "195/195 [==============================] - 3s 14ms/step\n"
     ]
    }
   ],
   "source": [
    "# Prédictions \n",
    "y_proba = model.predict(X_test)\n",
    "y_pred = []\n",
    "for i in range(len(y_proba)):\n",
    "    y_pred.append(np.argmax(y_proba[i]))\n",
    "y_pred = np.array(y_pred)"
   ]
  },
  {
   "cell_type": "code",
   "execution_count": 13,
   "id": "ccabf846-089a-4e24-ac36-c6df38d9419d",
   "metadata": {},
   "outputs": [
    {
     "name": "stdout",
     "output_type": "stream",
     "text": [
      "Le score sur les données test est de : 100.0%\n",
      "L'accuracy sur les données test est de : 100.0%\n"
     ]
    }
   ],
   "source": [
    "r2 = r2_score(y_test, y_pred)\n",
    "acc = accuracy_score(y_test, y_pred)\n",
    "print(f\"Le score sur les données test est de : {r2*100}%\")\n",
    "print(f\"L'accuracy sur les données test est de : {r2*100}%\")"
   ]
  },
  {
   "cell_type": "code",
   "execution_count": 14,
   "id": "7e78cf43-6b37-407e-a0e6-76684aae1c47",
   "metadata": {},
   "outputs": [
    {
     "data": {
      "image/png": "[encoded data removed]",
      "text/plain": [
       "<Figure size 720x240 with 3 Axes>"
      ]
     },
     "metadata": {},
     "output_type": "display_data"
    }
   ],
   "source": [
    "plt.figure(figsize=(7.2, 2.4))\n",
    "for index, image in enumerate(X_test[:3]):\n",
    "    plt.subplot(1, 3, index + 1)\n",
    "    plt.imshow(image, cmap=\"binary\", interpolation=\"nearest\")\n",
    "    plt.axis('off')\n",
    "    plt.title(f\"Catégorie predicte {y_pred[index]}\")\n",
    "plt.subplots_adjust(wspace=0.2, hspace=0.5)\n",
    "plt.show()"
   ]
  },
  {
   "cell_type": "code",
   "execution_count": null,
   "id": "743bddf8-5a80-4a3c-b439-c8972c408c30",
   "metadata": {},
   "outputs": [],
   "source": []
  }
 ],
 "metadata": {
  "kernelspec": {
   "display_name": "Python 3 (ipykernel)",
   "language": "python",
   "name": "python3"
  },
  "language_info": {
   "codemirror_mode": {
    "name": "ipython",
    "version": 3
   },
   "file_extension": ".py",
   "mimetype": "text/x-python",
   "name": "python",
   "nbconvert_exporter": "python",
   "pygments_lexer": "ipython3",
   "version": "3.10.13"
  }
 },
 "nbformat": 4,
 "nbformat_minor": 5
}
